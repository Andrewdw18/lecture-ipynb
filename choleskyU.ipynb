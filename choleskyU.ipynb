{
 "cells": [
  {
   "cell_type": "code",
   "execution_count": 16,
   "metadata": {
    "collapsed": false
   },
   "outputs": [
    {
     "name": "stdout",
     "output_type": "stream",
     "text": [
      "Matriz A =  [[16 -4 12 -4]\n",
      " [-4  2 -1  1]\n",
      " [12 -1 14 -2]\n",
      " [-4  1 -2 83]]\n",
      "Matriz L =  [[ 4.  0.  0.  0.]\n",
      " [-1.  1.  0.  0.]\n",
      " [ 3.  2.  1.  0.]\n",
      " [-1.  0.  1.  9.]]\n",
      "Matriz L^T =  [[ 4. -1.  3. -1.]\n",
      " [ 0.  1.  2.  0.]\n",
      " [ 0.  0.  1.  1.]\n",
      " [ 0.  0.  0.  9.]]\n",
      "Matriz LL^T =  [[ 16.  -4.  12.  -4.]\n",
      " [ -4.   2.  -1.   1.]\n",
      " [ 12.  -1.  14.  -2.]\n",
      " [ -4.   1.  -2.  83.]]\n",
      "Norma || A - LL^T || =  0.0\n"
     ]
    },
    {
     "data": {
      "text/plain": [
       "<matplotlib.image.AxesImage at 0x11770de10>"
      ]
     },
     "execution_count": 16,
     "metadata": {},
     "output_type": "execute_result"
    },
    {
     "data": {
      "image/png": "[encoded data removed]",
      "text/plain": [
       "<matplotlib.figure.Figure at 0x1177734d0>"
      ]
     },
     "metadata": {},
     "output_type": "display_data"
    },
    {
     "data": {
      "image/png": "[encoded data removed]",
      "text/plain": [
       "<matplotlib.figure.Figure at 0x118053350>"
      ]
     },
     "metadata": {},
     "output_type": "display_data"
    },
    {
     "data": {
      "image/png": "[encoded data removed]",
      "text/plain": [
       "<matplotlib.figure.Figure at 0x117ff6f50>"
      ]
     },
     "metadata": {},
     "output_type": "display_data"
    }
   ],
   "source": [
    "%matplotlib inline\n",
    "\n",
    "\"\"\"choleskyU.\n",
    "\n",
    "Implementacao da fatoracao de Cholesky.\n",
    "\n",
    "\"\"\"\n",
    "\n",
    "import numpy as np\n",
    "import matplotlib.pyplot as plt\n",
    "from scipy import array, linalg, dot\n",
    "\n",
    "# matriz\n",
    "A = array([[16, -4, 12, -4],\n",
    "           [-4, 2, -1, 1],\n",
    "           [12, -1, 14, -2],\n",
    "           [-4, 1, -2, 83]])\n",
    "\n",
    "# fator de Cholesky do Scipy\n",
    "L = linalg.cholesky(A, lower=True, overwrite_a=False, check_finite=True)\n",
    "\n",
    "# fator de Cholesky implementado\n",
    "n = A.shape[0]\n",
    "G = np.zeros(A.shape, dtype=float)\n",
    "\n",
    "for k in range(0, n):\n",
    "    s = 0.0\n",
    "    for j in range(0, k-1):\n",
    "        s += G[k, j]**2\n",
    "    r = A[k, k] - s\n",
    "    G[k, k] = np.sqrt(r)\n",
    "    for i in range(k+1, n):\n",
    "        s = 0.0\n",
    "        for j in range(1, k-1):\n",
    "            s += G[i, j]*G[k, j]\n",
    "        G[i, k] = (A[i, k] - s)/G[k, k]\n",
    "\n",
    "print 'Matriz A = ', A\n",
    "print 'Matriz L = ', L\n",
    "print 'Matriz L^T = ', L.T\n",
    "\n",
    "# prova real por produto interno\n",
    "A2 = dot(L, L.T)\n",
    "print 'Matriz LL^T = ', A2\n",
    "\n",
    "# prova real usando norma de Frobenius da diferenca de matrizes\n",
    "print 'Norma || A - LL^T || = ', linalg.norm(A-A2)\n",
    "\n",
    "plt.matshow(A)\n",
    "plt.matshow(L)\n",
    "plt.matshow(L.T)"
   ]
  },
  {
   "cell_type": "code",
   "execution_count": null,
   "metadata": {
    "collapsed": true
   },
   "outputs": [],
   "source": []
  }
 ],
 "metadata": {
  "kernelspec": {
   "display_name": "Python 2",
   "language": "python",
   "name": "python2"
  },
  "language_info": {
   "codemirror_mode": {
    "name": "ipython",
    "version": 2
   },
   "file_extension": ".py",
   "mimetype": "text/x-python",
   "name": "python",
   "nbconvert_exporter": "python",
   "pygments_lexer": "ipython2",
   "version": "2.7.12"
  }
 },
 "nbformat": 4,
 "nbformat_minor": 0
}
