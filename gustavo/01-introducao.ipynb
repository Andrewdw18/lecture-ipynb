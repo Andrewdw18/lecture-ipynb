{
 "cells": [
  {
   "cell_type": "markdown",
   "metadata": {},
   "source": [
    "#### Nota: traduzido por Gustavo Charles P. de Oliveira (@CI-UFPB/Brazil), com autorização de Hans Fanghor (@CMG-\n",
    "Soton/UK)"
   ]
  },
  {
   "cell_type": "markdown",
   "metadata": {},
   "source": [
    "# Introdução\n",
    "\n",
    "Este texto resumo algumas ideias centrais relevantes para Engenharia Computacional e Computação Científica usando Python. A ênfase está em apresentar alguns conceitos de programação em Python que são importantes para algoritmos numéricos. Os capítulos posteriores versam sobre bibliotecas numéricas, tais como <span>`numpy`</span> e <span>`scipy`</span>, as quais, individualmente, merecem muito mais espaço para serem abordadas do que o fornecido aqui. Temos o objetivo de habilitar o leitor a aprender de maneira independente como usar as funcionalidades dessas bibliotecas através da documentação disponível tanto online quanto nos próprios pacotes.\n",
    "\n"
   ]
  },
  {
   "cell_type": "markdown",
   "metadata": {},
   "source": [
    "# Por que Python para Computação Científica?\n",
    "\n",
    "\n",
    "O foco do projeto da linguagem Python está na produtividade e legibilidade de código, por exemplo, através de:\n",
    "\n",
    "-   Console Python interativo\n",
    "\n",
    "-   Sintaxe muito clara e legível através de indentação\n",
    "\n",
    "-   Fortes capacidades de introspecção\n",
    "\n",
    "-   Plena modularidade e pacotes hierárquicos de suporte\n",
    "\n",
    "-   Manipulação de erros com base em exceções\n",
    "\n",
    "-   Tipos de dados dinâmicos e gerenciamento de memória automático\n",
    "\n",
    "*Python é “rápida o suficiente” para a maioria das tarefas computacionais e sua linguagem de alto nível amigável ao usuário frequentemente é compensada em velocidade reduzida quando comparada a linguagens compiladas de baixo nível. A combinação de Python com códigos compilados escritos sob medida para desempenho de partes críticas do código resulta em velocidade virtualmente ótima na maioria dos casos.*   "
   ]
  },
  {
   "cell_type": "markdown",
   "metadata": {},
   "source": [
    "# Literatura\n",
    "----------\n",
    "\n",
    "Enquanto este texto inicia-se com uma introdução de alguns aspectos básicos da linguagem de programação Python, você pode achar necessário - dependenddo de sua experiência prévia - buscar fontes secundárias para entender algumas ideias completamante. Nesse caso, os seguintes documentos são indicados:\n",
    "\n",
    "-   Allen Downey, *Think Python*. Disponível online em html e pdf em <http://www.greenteapress.com/thinkpython/thinkpython.html>, ou na Amazon.<sup>[1](#footnote1)</sup>\n",
    "\n",
    "-   A documentação oficial da Python: <http://www.python.org/doc/> e\n",
    "\n",
    "-   O tutorial da Python (<http://docs.python.org/tutorial/>)\n",
    "\n",
    "Os seguintes links também podem ser úteis para você:\n",
    "\n",
    "-   The <span>`numpy`</span> home page (<http://numpy.scipy.org/>)\n",
    "\n",
    "-   The <span>`scipy`</span> home page (<http://scipy.org/>)\n",
    "\n",
    "-   The <span>`matplotlib`</span> home page (<http://matplotlib.sourceforge.net/>).\n",
    "\n",
    "-   The Python style guide (<http://www.python.org/dev/peps/pep-0008/>\n",
    "\n",
    "<a name=\"footnote1\">1</a>: N.T. Este livro já possui uma versão em Português. Vide: http://novatec.com.br/livros/pense-em-python/"
   ]
  },
  {
   "cell_type": "markdown",
   "metadata": {},
   "source": [
    "# Versões do Python\n",
    "\n",
    "Existem duas versões de Python por aí: Python 2.x and Python 3.x. Elas são levemente diferentes — as mudanças na Python 3.x foram introduzidas para corrigir algumas deficiências no projeto da linguagem identificados desde o início.\n",
    "Uma decisão que foi tomada assumiu que alguma incompatibilidade deveria ser aceita para se atingir o objetivo maior de uma linguagem melhor para o futuro.\n",
    "\n",
    "Para computação científica, é crucial fazer uso de bibliotecas numéricas tais como [numpy](http://numpy.scipy.org/), [scipy](http://www.scipy.org) e o pacote de plotagem [matplotlib](http://matplotlib.sourceforge.net/).\n",
    "\n",
    "Todos eles estão disponíveis para Python 3, versão que usaremos aqui. No entanto, há muito código ainda em uso que foi escrito para Python 2. Para tanto, é útil saber das diferenças. O exemplo mais proeminente é que em Python 2.x, o comando `print` é especial, ao passo que em Python 3 é uma função ordinária. Por exemplo, em Python 2.7, podemos escrever:\n",
    "\n",
    "```python\n",
    "print \"Hello World\"\n",
    "```\n",
    "\n",
    "ao passo que, em Python 3, isto causaria um erro de sintaxe. A maneira correta de usar `print`em Python 3 seria como uma função, i.e."
   ]
  },
  {
   "cell_type": "code",
   "execution_count": 1,
   "metadata": {
    "collapsed": false
   },
   "outputs": [
    {
     "name": "stdout",
     "output_type": "stream",
     "text": [
      "Hello World\n"
     ]
    }
   ],
   "source": [
    "print(\"Hello World\")"
   ]
  },
  {
   "cell_type": "markdown",
   "metadata": {},
   "source": [
    "Felizmente, a notação de função (i.e. com os parênteses) também é permitida em Python 2.7. Assim, nossos exemplos devem funcionar tanto em Python 2.x, quanto em Python 3.x. (Existem outras diferenças.)"
   ]
  },
  {
   "cell_type": "markdown",
   "metadata": {},
   "source": [
    "# Estes documentos\n",
    "\n",
    "Este material foi convertido do `LaTex` para um conjunto de `Jupyter Notebooks`, tornando os exemplos nele contidos interativos. Você pode executar qualquer bloco de código com iniciado por `In [ ]:` clicando nesta célula e pressionando `shift-enter`, ou clicando o botão <i class=\"fa fa-step-forward\"></i> na barra de ferramentas."
   ]
  },
  {
   "cell_type": "code",
   "execution_count": null,
   "metadata": {
    "collapsed": true
   },
   "outputs": [],
   "source": []
  }
 ],
 "metadata": {
  "kernelspec": {
   "display_name": "Python 2",
   "language": "python",
   "name": "python2"
  },
  "language_info": {
   "codemirror_mode": {
    "name": "ipython",
    "version": 2
   },
   "file_extension": ".py",
   "mimetype": "text/x-python",
   "name": "python",
   "nbconvert_exporter": "python",
   "pygments_lexer": "ipython2",
   "version": "2.7.12"
  }
 },
 "nbformat": 4,
 "nbformat_minor": 1
}
