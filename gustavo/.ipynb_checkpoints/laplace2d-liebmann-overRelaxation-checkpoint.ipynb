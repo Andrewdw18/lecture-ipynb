{
 "cells": [
  {
   "cell_type": "code",
   "execution_count": 25,
   "metadata": {
    "collapsed": false
   },
   "outputs": [
    {
     "name": "stderr",
     "output_type": "stream",
     "text": [
      "/usr/local/lib/python2.7/site-packages/ipykernel/__main__.py:84: DeprecationWarning: using a non-integer number instead of an integer will result in an error in the future\n"
     ]
    },
    {
     "data": {
      "text/plain": [
       "<matplotlib.text.Text at 0x1085443d0>"
      ]
     },
     "execution_count": 25,
     "metadata": {},
     "output_type": "execute_result"
    },
    {
     "data": {
      "image/png": "[encoded data removed]",
      "text/plain": [
       "<matplotlib.figure.Figure at 0x109284390>"
      ]
     },
     "metadata": {},
     "output_type": "display_data"
    },
    {
     "data": {
      "image/png": "[encoded data removed]",
      "text/plain": [
       "<matplotlib.figure.Figure at 0x108f73250>"
      ]
     },
     "metadata": {},
     "output_type": "display_data"
    }
   ],
   "source": [
    "'''\n",
    "Distribuicao de temperatura em placa aquecida com condicao de contorno fixa - Metodo de Liebmann (Gauss-Seidel)\n",
    "\n",
    "Diferencas Finitas - Equacao de Laplace 2D\n",
    "'''\n",
    "\n",
    "# modulos\n",
    "%matplotlib inline\n",
    "import numpy as np\n",
    "import matplotlib.mlab as mlab # comandos compatíveis com Matlab\n",
    "import matplotlib.pyplot as plt\n",
    "import matplotlib.cm as cm # submodulo colormap \n",
    "\n",
    "# refinamento\n",
    "m = 20\n",
    "n = m \n",
    "#m = 6\n",
    "\n",
    "# eixo x\n",
    "x0 = 0.\n",
    "xM = 2.\n",
    "\n",
    "# eixo y\n",
    "y0 = 0.\n",
    "yN = 3.\n",
    "\n",
    "# cond. contorno\n",
    "tesq = 75.0  # esquerda\n",
    "tdir = 50.0  # direita\n",
    "tinf = 40.0   # inferior\n",
    "tsup = 100.0 # superior\n",
    "\n",
    "# parametro de relaxacao\n",
    "k = 1.5\n",
    "\n",
    "# particao\n",
    "dx = abs(xM-x0)/m\n",
    "dy = abs(yN-y0)/n\n",
    "\n",
    "# malha 2D\n",
    "x = np.arange(x0,xM,dx)\n",
    "y = np.arange(y0,yN,dy)\n",
    "X,Y = np.meshgrid(x, y)\n",
    "\n",
    "# T(x,y)\n",
    "T = X*0.\n",
    "\n",
    "# preenchendo cond. contorno\n",
    "T[:,0] = tesq \n",
    "T[:,-1] = tdir  \n",
    "T[0,] = tinf  \n",
    "T[-1,]= tsup \n",
    "\n",
    "\n",
    "# loop\n",
    "tol = 0.01\n",
    "err = tol+1\n",
    "Tnew = T[1::-1,1::-1] \n",
    "Told = T[1::-1,1::-1] \n",
    "\n",
    "while np.all(err >= tol):     \n",
    "\n",
    "    Told = T[1::-1,1::-1] \n",
    "    for i in range(1,m-1):\n",
    "        for j in range(1,n-1):\n",
    "            T[i,j] = 0.25*( T[i+1,j] + T[i-1,j] + T[i,j+1] + T[i,j-1] )\n",
    "\n",
    "    Tnew = k*Tnew + (1.0-k)*Told\n",
    "    err = np.abs( (Tnew - Told)/Tnew )    \n",
    "\n",
    "    \n",
    "# plot\n",
    "fig, ax = plt.subplots()\n",
    "cax = ax.imshow(T,cmap=cm.hot_r)\n",
    "#plt.grid('on',ls='-',linewidth=1,color='pink')\n",
    "cbar = fig.colorbar(cax)\n",
    "\n",
    "# plot\n",
    "fig2, ax = plt.subplots()\n",
    "ymid = 0.5*(y0+yN)\n",
    "ymid = np.round(ymid)\n",
    "plt.plot(x,T[:,0])\n",
    "plt.hold\n",
    "plt.plot(x,T[:,ymid])\n",
    "plt.plot(x,T[:,-1])\n",
    "plt.xlabel('x')\n",
    "plt.ylabel('T(x,y=y0,ymid,yN)')"
   ]
  },
  {
   "cell_type": "code",
   "execution_count": 17,
   "metadata": {
    "collapsed": false
   },
   "outputs": [
    {
     "data": {
      "text/plain": [
       "array([[   0.     ,    0.     ,    0.     ,    0.     ],\n",
       "       [  75.     ,   18.75   ,   17.1875 ,   50.     ],\n",
       "       [  75.     ,   48.4375 ,   53.90625,   50.     ],\n",
       "       [ 100.     ,  100.     ,  100.     ,  100.     ]])"
      ]
     },
     "execution_count": 17,
     "metadata": {},
     "output_type": "execute_result"
    }
   ],
   "source": [
    "T"
   ]
  },
  {
   "cell_type": "code",
   "execution_count": null,
   "metadata": {
    "collapsed": true
   },
   "outputs": [],
   "source": []
  }
 ],
 "metadata": {
  "kernelspec": {
   "display_name": "Python 2",
   "language": "python",
   "name": "python2"
  },
  "language_info": {
   "codemirror_mode": {
    "name": "ipython",
    "version": 2
   },
   "file_extension": ".py",
   "mimetype": "text/x-python",
   "name": "python",
   "nbconvert_exporter": "python",
   "pygments_lexer": "ipython2",
   "version": "2.7.12"
  }
 },
 "nbformat": 4,
 "nbformat_minor": 0
}
