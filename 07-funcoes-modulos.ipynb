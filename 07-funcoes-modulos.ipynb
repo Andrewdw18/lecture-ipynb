{
 "cells": [
  {
   "cell_type": "markdown",
   "metadata": {},
   "source": [
    "Funções e módulos\n",
    "=====================\n",
    "\n",
    "Introdução\n",
    "------------\n",
    "\n",
    "As funções nos permitem agrupar várias declarações em um bloco lógico. Nos comunicamos com uma função através de uma interface claramente definida, fornecendo certos parâmetros para a função e recebendo algumas informações de volta. Além dessa interface, geralmente não sabemos como exatamente uma função faz o trabalho para obter o valor que retorna\n",
    "\n",
    "Por exemplo, a função `math.sqrt`: não sabemos como exatamente ela calcula a raiz quadrada, mas sabemos sobre a interface: se passarmos `x` para a função, ela retornará (uma aproximação de) $ \\\\sqrt{x} $.\n",
    "\n",
    "Esta abstração é uma coisa útil: é uma técnica comum na engenharia para quebrar um sistema em componentes menores (caixa preta) que trabalham juntos através de interfaces bem definidas, mas que não precisam saber sobre as realizações internas da funcionalidade um do outro. Na verdade, não ter que se preocupar com esses detalhes de implementação pode ajudar a ter uma visão mais clara do sistema composto por muitas dessas componentes.\n",
    "\n",
    "As funções fornecem os blocos básicos de funcionalidade em programas maiores (e simulações computacionais) e ajudam a controlar a complexidade inerente ao processo.\n",
    "\n",
    "Podemos agrupar funções em um módulo Python (veja [módulos](#Modulos)) e, assim, criar nossas próprias bibliotecas de funcionalidades.\n",
    "\n",
    "Usando funções\n",
    "---------------\n",
    "\n",
    "A palavra \"função\" tem diferentes significados em matemática e programação. Na programação, ela se refere a uma sequência de operações que executam uma computação. Por exemplo, a função `sqrt()`, definida no módulo de matemática `math`, calcula a raiz quadrada de um determinado valor:"
   ]
  },
  {
   "cell_type": "code",
   "execution_count": 1,
   "metadata": {},
   "outputs": [
    {
     "data": {
      "text/plain": [
       "2.0"
      ]
     },
     "execution_count": 1,
     "metadata": {},
     "output_type": "execute_result"
    }
   ],
   "source": [
    "from math import sqrt\n",
    "sqrt(4)"
   ]
  },
  {
   "cell_type": "markdown",
   "metadata": {},
   "source": [
    "O valor que passamos para a função `sqrt` é 4 neste exemplo. Esse valor é chamado de *argumento* da função. Uma função pode ter mais de um argumento.\n",
    "\n",
    "A função retorna o valor 2.0 (o resultado de sua computação) para o \"contexto de chamada\". Esse valor é chamado de *valor de retorno* da função.\n",
    "\n",
    "É comum dizer que uma função *leva* um argumento e *retorna* um resultado ou valor de retorno.\n",
    "\n",
    "#### Confusão comum sobre a impressão e os valores de retorno \n",
    "\n",
    "É um erro comum do principiante confundir a *impressão* de valores com *valores de retorno*. No exemplo a seguir, é difícil ver se a função `math.sin` retorna um valor ou se ela imprime o valor:"
   ]
  },
  {
   "cell_type": "code",
   "execution_count": 2,
   "metadata": {},
   "outputs": [
    {
     "data": {
      "text/plain": [
       "0.9092974268256817"
      ]
     },
     "execution_count": 2,
     "metadata": {},
     "output_type": "execute_result"
    }
   ],
   "source": [
    "import math\n",
    "math.sin(2)"
   ]
  },
  {
   "cell_type": "markdown",
   "metadata": {},
   "source": [
    "Nós importamos o módulo `math` e chamamos a função `math.sin` com o argumento `2`. A chamada `math.sin(2)` realmente *retornará* o valor `0.909...`, não o imprimirá. No entanto, como não foi atribuído o valor de retorno a uma variável, o prompt do Python imprimirá o objeto retornado.\n",
    "\n",
    "A seguinte sequência alternativa funciona apenas se o valor for retornado:"
   ]
  },
  {
   "cell_type": "code",
   "execution_count": 3,
   "metadata": {},
   "outputs": [
    {
     "name": "stdout",
     "output_type": "stream",
     "text": [
      "0.9092974268256817\n"
     ]
    }
   ],
   "source": [
    "x = math.sin(2)\n",
    "print(x)"
   ]
  },
  {
   "cell_type": "markdown",
   "metadata": {},
   "source": [
    "O valor de retorno da chamada da função `math.sin (2)` é atribuído à variável `x` e `x` é impresso na próxima linha.\n",
    "\n",
    "Geralmente, as funções devem executar \"silenciosamente\" (ou seja, não imprimir nada) e reportar o resultado de sua computação através do valor de retorno.\n",
    "\n",
    "Parte da confusão sobre valores impressos versus valores de retorno no prompt do Python vem da impressão rápida do Python (uma representação) dos objetos retornados *se* os objetos retornados não são atribuídos. Geralmente, ver os objetos retornados é exatamente o que queremos (como normalmente nos preocupamos com o objeto retornado), apenas ao aprender Python. Isso pode causar confusão leve sobre funções que retornam valores ou valores de impressão.\n",
    "\n",
    "##### Informação adicional\n",
    "\n",
    "- *Think Python* apresenta uma introdução gentil às funções (em que se baseia o parágrafo anterior) no [capítulo 3 (Funções)] (http://www.greenteapress.com/thinkpython/html/book004.html) e [capítulo 6 ( Funções frutíferas)] (http://www.greenteapress.com/thinkpython/html/book007.html). (Vide: http://novatec.com.br/livros/pense-em-python/\")"
   ]
  },
  {
   "cell_type": "markdown",
   "metadata": {},
   "source": [
    "Definindo funções\n",
    "------------------\n",
    "\n",
    "Formato genérico de definição de uma função:\n",
    "\n",
    "```python\n",
    "def minha_funcao(arg1, arg2, ..., argn):\n",
    "    \"\"\"Docstring opcional\"\"\"\n",
    "\n",
    "    # Implementacao da funcao\n",
    "\n",
    "    return resultado  # opcional\n",
    "\n",
    "# isto nao eh parte da funcao\n",
    "algum_comando\n",
    "```"
   ]
  },
  {
   "cell_type": "markdown",
   "metadata": {},
   "source": [
    "For example, the function `greeting` will print “Hello World” when called (and is fruitless as it does not return a value).\n",
    "\n",
    "A terminologia de Allen Downey (em seu livro [Think Python](http://www.greenteapress.com/thinkpython/html/index.html)) de funções frutíferas e infrutíferas distingue funções que retornam um valor daquelas que não retornam valor algum. A distinção refere-se a se uma função fornece um valor de retorno (=frutífera) ou se a função não retorna explicitamente um valor (=infrutífera). Se as funções não usam a instrução `return`, tendemos a dizer que a função não retorna nada (enquanto que, na realidade, sempre retornará o objeto `None` quando ele termina - mesmo que nela falte a instrução `return`).\n",
    "\n",
    "Por exemplo, a função `cumprimento` imprimirá \"Ola, mundo!\" quando chamada (e é infrutífero, pois não retorna um valor)."
   ]
  },
  {
   "cell_type": "code",
   "execution_count": 1,
   "metadata": {
    "collapsed": true
   },
   "outputs": [],
   "source": [
    "def cumprimento():\n",
    "    print(\"Ola, mundo!\")"
   ]
  },
  {
   "cell_type": "markdown",
   "metadata": {},
   "source": [
    "Se chamarmos essa função:"
   ]
  },
  {
   "cell_type": "code",
   "execution_count": 2,
   "metadata": {},
   "outputs": [
    {
     "name": "stdout",
     "output_type": "stream",
     "text": [
      "Ola, mundo!\n"
     ]
    }
   ],
   "source": [
    "cumprimento()"
   ]
  },
  {
   "cell_type": "markdown",
   "metadata": {},
   "source": [
    "ela imprime “Ola, Mundo!” para `stdout`, com esperado. Se atribuírmos o valor de retorno da função para a variável `x`, podemos inspecioná-lo na sequencia:"
   ]
  },
  {
   "cell_type": "code",
   "execution_count": 3,
   "metadata": {},
   "outputs": [
    {
     "name": "stdout",
     "output_type": "stream",
     "text": [
      "Ola, mundo!\n"
     ]
    }
   ],
   "source": [
    "x = cumprimento()"
   ]
  },
  {
   "cell_type": "code",
   "execution_count": 4,
   "metadata": {},
   "outputs": [
    {
     "name": "stdout",
     "output_type": "stream",
     "text": [
      "None\n"
     ]
    }
   ],
   "source": [
    "print(x)"
   ]
  },
  {
   "cell_type": "markdown",
   "metadata": {},
   "source": [
    "e encontramos que a função `cumprimento`, de fato, retornou, o objeto `None`.\n",
    "\n",
    "Outro exemplo para uma função que não retorna valor algum (isso significa que não há palavra-chave `return` na função) seria:"
   ]
  },
  {
   "cell_type": "code",
   "execution_count": 5,
   "metadata": {
    "collapsed": true
   },
   "outputs": [],
   "source": [
    "def printpluses(n): \n",
    "    print(n * \"+\")"
   ]
  },
  {
   "cell_type": "markdown",
   "metadata": {},
   "source": [
    "Geralmente, funções que retornam valores são mais úteis, pois estas podem ser usadas para montar código (talvez como outra função) combinando-as de maneira \"esperta\"\". Vejamos alguns exemplos de funções que retornam um valor.\n",
    "\n",
    "Suponhamos que precisemos definir uma função que calcule o quadrado de uma determinada variável. O código-fonte da função poderia ser:"
   ]
  },
  {
   "cell_type": "code",
   "execution_count": 6,
   "metadata": {
    "collapsed": true
   },
   "outputs": [],
   "source": [
    "def quadrado(x):\n",
    "    return x * x"
   ]
  },
  {
   "cell_type": "markdown",
   "metadata": {},
   "source": [
    "A palavra-chave `def` diz ao Python que estamos *definindo* uma função naquele ponto. A função leva um argumento (`x`). A função retorna `x*x`, que é, claramento, $ x^2 $. Aqui está um exemplo que mostra como a função pode ser definida e usada:"
   ]
  },
  {
   "cell_type": "code",
   "execution_count": 7,
   "metadata": {
    "attributes": {
     "classes": [
      "numberLines"
     ],
     "id": ""
    }
   },
   "outputs": [
    {
     "name": "stdout",
     "output_type": "stream",
     "text": [
      "0 * 0 = 0\n",
      "1 * 1 = 1\n",
      "2 * 2 = 4\n",
      "3 * 3 = 9\n",
      "4 * 4 = 16\n"
     ]
    }
   ],
   "source": [
    "def quadrado(x):\n",
    "    return x * x\n",
    "\n",
    "for i in range(5):\n",
    "    i_quadrado = quadrado(i)\n",
    "    print(i, '*', i, '=', i_quadrado)"
   ]
  },
  {
   "cell_type": "markdown",
   "metadata": {},
   "source": [
    "Vale mencionar que as linhas 1 e 2 definem a função `quadrado` ao passo que as linhas 4 a 6 são o programa principal."
   ]
  },
  {
   "cell_type": "markdown",
   "metadata": {},
   "source": [
    "Podemos definir funções que levam mais do que um argumento:"
   ]
  },
  {
   "cell_type": "code",
   "execution_count": 8,
   "metadata": {
    "collapsed": true
   },
   "outputs": [],
   "source": [
    "import math\n",
    "\n",
    "def hipotenusa(x, y):\n",
    "    return math.sqrt(x * x + y * y)"
   ]
  },
  {
   "cell_type": "markdown",
   "metadata": {},
   "source": [
    "Também é possível retornar mais de um argumento. Aqui está um exemplo de uma função que converte uma determinada *string* com todos os caracteres em letras maiúsculas e todos os caracteres em letras minúsculas e retorna as duas versões. Incluímos o programa principal para mostrar como esta função pode ser chamada:"
   ]
  },
  {
   "cell_type": "code",
   "execution_count": 9,
   "metadata": {},
   "outputs": [
    {
     "name": "stdout",
     "output_type": "stream",
     "text": [
      "Banana em minusculas: banana e em maiusculas BANANA\n"
     ]
    }
   ],
   "source": [
    "def maiusculasEMinusculas(string):\n",
    "    return string.upper(), string.lower()\n",
    "\n",
    "palavra = 'Banana'\n",
    "\n",
    "uppercase, lowercase = maiusculasEMinusculas(palavra)\n",
    "\n",
    "print(palavra, 'em minusculas:', lowercase,\n",
    "      'e em maiusculas', uppercase)"
   ]
  },
  {
   "cell_type": "markdown",
   "metadata": {},
   "source": [
    "Podemos definir múltiplas funções em Python em um arquivo. Aqui está um exemplo com duas funções:"
   ]
  },
  {
   "cell_type": "code",
   "execution_count": 11,
   "metadata": {},
   "outputs": [
    {
     "name": "stdout",
     "output_type": "stream",
     "text": [
      "*****************Ola, Mundo!*****************\n"
     ]
    }
   ],
   "source": [
    "def retorna_estrelas( n ):\n",
    "    return n * '*'\n",
    "\n",
    "def imprime_centrado_estrelas( string ):\n",
    "    linelength = 46 \n",
    "    starstring = retorna_estrelas((linelength - len(string)) // 2)\n",
    "\n",
    "    print(starstring + string + starstring)\n",
    "\n",
    "imprime_centrado_estrelas('Ola, Mundo!')"
   ]
  },
  {
   "cell_type": "markdown",
   "metadata": {},
   "source": [
    "##### Leitura complementar\n",
    "\n",
    "-   [Python Tutorial: Seção 4.6 Definindo Funções](http://docs.python.org/tutorial/controlflow.html#defining-functions)\n",
    "\n",
    "Default values and optional parameters\n",
    "--------------------------------------\n",
    "\n",
    "Python allows to define *default* values for function parameters. Here is an example: This program will print the following output when executed: So how does it work? The function `print_mult_table` takes two arguments: `n` and `upto`. The first argument `n` is a “normal” variable. The second argument `upto` has a default value of 10. In other words: should the user of this function only provide one argument, then this provides the value for `n` and `upto` will default to 10. If two arguments are provided, the first one will be for `n` and the second for `upto` (as shown in the code example above)."
   ]
  },
  {
   "cell_type": "markdown",
   "metadata": {},
   "source": [
    "Modules\n",
    "-------\n",
    "\n",
    "Modules\n",
    "\n",
    "-   Group together functionality\n",
    "\n",
    "-   Provide namespaces\n",
    "\n",
    "-   Python’s standard library contains a vast collection of modules - “Batteries Included”\n",
    "\n",
    "  -   Try `help(’modules’)`\n",
    "\n",
    "-   Means of extending Python\n",
    "\n",
    "### Importing modules"
   ]
  },
  {
   "cell_type": "code",
   "execution_count": 14,
   "metadata": {
    "collapsed": true
   },
   "outputs": [],
   "source": [
    "import math"
   ]
  },
  {
   "cell_type": "markdown",
   "metadata": {},
   "source": [
    "This will introduce the name `math` into the namespace in which the import command was issued. The names within the `math` module will not appear in the enclosing namespace: they must be accessed through the name `math`. For example: `math.sin`."
   ]
  },
  {
   "cell_type": "code",
   "execution_count": 15,
   "metadata": {
    "collapsed": true
   },
   "outputs": [],
   "source": [
    "import math, cmath"
   ]
  },
  {
   "cell_type": "markdown",
   "metadata": {},
   "source": [
    "More than one module can be imported in the same statement, although the [Python Style Guide](http://www.python.org/dev/peps/pep-0008/) recommends not to do this. Instead, we should write"
   ]
  },
  {
   "cell_type": "code",
   "execution_count": 16,
   "metadata": {
    "collapsed": true
   },
   "outputs": [],
   "source": [
    "import math\n",
    "import cmath\n",
    "\n",
    "import math as mathematics"
   ]
  },
  {
   "cell_type": "markdown",
   "metadata": {},
   "source": [
    "The name by which the module is known locally can be different from its “official” name. Typical uses of this are\n",
    "\n",
    "-   To avoid name clashes with existing names\n",
    "\n",
    "-   To change the name to something more manageable. For example `import SimpleHTTPServer as shs`. This is discouraged for production code (as longer meaningful names make programs far more understandable than short cryptic ones), but for interactively testing out ideas, being able to use a short synonym can make your life much easier. Given that (imported) modules are first class objects, you can, of course, simply do `shs = SimpleHTTPServer` in order to obtain the more easily typable handle on the module.\n",
    "\n",
    "<!-- -->"
   ]
  },
  {
   "cell_type": "code",
   "execution_count": 17,
   "metadata": {
    "collapsed": true
   },
   "outputs": [],
   "source": [
    "from math import sin"
   ]
  },
  {
   "cell_type": "markdown",
   "metadata": {},
   "source": [
    "This will import the `sin` function from the `math` module, but it will not introduce the name math into the current namespace. It will only introduce the name `sin` into the current namespace. It is possible to pull in more than one name from the module in one go:"
   ]
  },
  {
   "cell_type": "code",
   "execution_count": 18,
   "metadata": {
    "collapsed": true
   },
   "outputs": [],
   "source": [
    "from math import sin, cos"
   ]
  },
  {
   "cell_type": "markdown",
   "metadata": {},
   "source": [
    "Finally, let’s look at this notation:"
   ]
  },
  {
   "cell_type": "code",
   "execution_count": 19,
   "metadata": {
    "collapsed": true
   },
   "outputs": [],
   "source": [
    "from math import *"
   ]
  },
  {
   "cell_type": "markdown",
   "metadata": {},
   "source": [
    "Once again, this does not introduce the name math into the current namespace. It does however introduce *all public names* of the math module into the current namespace. Broadly speaking, it is a bad idea to do this:\n",
    "\n",
    "-   Lots of new names will be dumped into the current namespace.\n",
    "\n",
    "-   Are you sure they will not clobber any names already present?\n",
    "\n",
    "-   It will be very difficult to trace where these names came from\n",
    "\n",
    "-   Having said that, some modules (including ones in the standard library, recommend that they be imported in this way). Use with caution!\n",
    "\n",
    "-   This is fine for interactive quick and dirty testing or small calculations."
   ]
  },
  {
   "cell_type": "markdown",
   "metadata": {},
   "source": [
    "### Creating modules\n",
    "\n",
    "A module is in principle nothing else than a python file. Here is an example of a module file which is saved in `module1.py`:\n",
    "\n",
    "```python\n",
    "def someusefulfunction():\n",
    "    pass\n",
    "\n",
    "print(\"My name is\", __name__)\n",
    "```\n",
    "\n",
    "We can execute this (module) file as a normal python program (for example `python module1.py`):"
   ]
  },
  {
   "cell_type": "code",
   "execution_count": 20,
   "metadata": {},
   "outputs": [
    {
     "name": "stdout",
     "output_type": "stream",
     "text": [
      "/Users/fangohr/hg/teaching-python/book/text/code\n"
     ]
    }
   ],
   "source": [
    "cd code/"
   ]
  },
  {
   "cell_type": "code",
   "execution_count": 21,
   "metadata": {},
   "outputs": [
    {
     "name": "stdout",
     "output_type": "stream",
     "text": [
      "My name is __main__\r\n"
     ]
    }
   ],
   "source": [
    "!python module1.py"
   ]
  },
  {
   "cell_type": "markdown",
   "metadata": {},
   "source": [
    "We note that the Python magic variable `__name__` takes the value `__main__` if the program file `module1.py` is executed.\n",
    "\n",
    "On the other hand, we can *import* `module1.py` in another file (which could have the name `prog.py`), for example like this:"
   ]
  },
  {
   "cell_type": "code",
   "execution_count": 22,
   "metadata": {},
   "outputs": [
    {
     "name": "stdout",
     "output_type": "stream",
     "text": [
      "My name is module1\n"
     ]
    }
   ],
   "source": [
    "import module1            #in file prog.py"
   ]
  },
  {
   "cell_type": "markdown",
   "metadata": {},
   "source": [
    "When Python comes across the `import module1` statement in `prog.py`, it looks for the file `module1.py` in the current working directory (and if it can’t find it there in all the directories in `sys.path`) and opens the file `module1.py`. While parsing the file `module1.py` from top to bottom, it will add any function definitions in this file into the `module1` name space in the calling context (that is the main program in `prog.py`). It this example, there is only the function `someusefulfunction`. Once the import process is completed, we can make use of `module1.someusefulfunction` in `prog.py`. If Python comes across statements other than function (and class) definitions while importing `module1.py`, it carries those out immediately. In this case, it will thus come across the statement `print(My name is, __name__)`."
   ]
  },
  {
   "cell_type": "markdown",
   "metadata": {},
   "source": [
    "Note the difference to the output if we *import* `module1.py` rather than executing it on its own: `__name__` inside a module takes the value of the module name if the file is imported.\n",
    "\n",
    "### Use of \\_\\_name\\_\\_\n",
    "\n",
    "In summary,\n",
    "\n",
    "-   `__name__` is `__main__` if the module file is run on its own\n",
    "\n",
    "-   `__name__` is the name of the module (i.e. the module filename without the `.py` suffix) if the module file is imported.\n",
    "\n",
    "We can therefor use the following `if` statement in `module1.py` to write code that is *only run* when the module is executed on its own: This is useful to keep test programs or demonstrations of the abilities of a module in this “conditional” main program. It is common practice for any module files to have such a conditional main program which demonstrates its capabilities."
   ]
  },
  {
   "cell_type": "markdown",
   "metadata": {},
   "source": [
    "### Example 1\n",
    "\n",
    "The next example shows a main program for the another file `vectools.py` that is used to demonstrate the capabilities of the functions defined in that file:\n",
    "\n",
    "```python\n",
    "from __future__ import division\n",
    "import math\n",
    "\n",
    "import numpy as N\n",
    "\n",
    "\n",
    "def norm(x):\n",
    "    \"\"\"returns the magnitude of a vector x\"\"\"\n",
    "    return math.sqrt(sum(x ** 2))\n",
    "\n",
    "\n",
    "def unitvector(x):\n",
    "    \"\"\"returns a unit vector x/|x|. x needs to be a numpy array.\"\"\"\n",
    "    xnorm = norm(x)\n",
    "    if xnorm == 0:\n",
    "        raise ValueError(\"Can't normalise vector with length 0\")\n",
    "    return x / norm(x)\n",
    "\n",
    "\n",
    "if __name__ == \"__main__\":\n",
    "    #a little demo of how the functions in this module can be used:\n",
    "    x1 = N.array([0, 1, 2])\n",
    "    print(\"The norm of \" + str(x1) + \" is \" + str(norm(x1)) + \".\")\n",
    "    print(\"The unitvector in direction of \" + str(x1) + \" is \" \\\n",
    "        + str(unitvector(x1)) + \".\")\n",
    "```\n",
    "\n",
    "If this file is executed using `python vectools.py`, then `__name__==__main__` is true, and the output reads"
   ]
  },
  {
   "cell_type": "code",
   "execution_count": 23,
   "metadata": {},
   "outputs": [
    {
     "name": "stdout",
     "output_type": "stream",
     "text": [
      "The norm of [0 1 2] is 2.23606797749979.\r\n",
      "The unitvector in direction of [0 1 2] is [ 0.          0.4472136   0.89442719].\r\n"
     ]
    }
   ],
   "source": [
    "!python3 vectortoolswithconditionalmain.py"
   ]
  },
  {
   "cell_type": "markdown",
   "metadata": {},
   "source": [
    "If this file is imported (i.e. used as a module) into another python file, then `__name__==__main__` is false, and that statement block will not be executed (and no output produced).\n",
    "\n",
    "This is quite a common way to conditionally execute code in files providing library-like functions. The code that is executed if the file is run on its own, often consists of a series of tests (to check that the file’s functions carry out the right operations – *regression tests* or *unit tests* ), or some examples of how the library functions in the file can be used.\n",
    "\n",
    "### Example 2\n",
    "\n",
    "Even if a Python program is not intended to be used as a module file, it is good practice to always use a conditional main program:\n",
    "\n",
    "-   often, it turns out later that functions in the file can be reused (and saves work then)\n",
    "\n",
    "-   this is convenient for regression testing.\n",
    "\n",
    "Suppose an exercise is given to write a function that returns the first 5 prime numbers, and in addition to print them. (There is of course a trivial solution to this as we know the prime numbers, and we should imagine that the required calculation is more complex). One might be tempted to write"
   ]
  },
  {
   "cell_type": "code",
   "execution_count": 24,
   "metadata": {},
   "outputs": [
    {
     "name": "stdout",
     "output_type": "stream",
     "text": [
      "2 3 5 7 11 "
     ]
    }
   ],
   "source": [
    "def primes5():\n",
    "    return (2, 3, 5, 7, 11)\n",
    "\n",
    "for p in primes5():\n",
    "    print(\"%d\" % p, end=' ')"
   ]
  },
  {
   "cell_type": "markdown",
   "metadata": {},
   "source": [
    "It is better style to use a conditional main function, i.e.:"
   ]
  },
  {
   "cell_type": "code",
   "execution_count": 25,
   "metadata": {},
   "outputs": [
    {
     "name": "stdout",
     "output_type": "stream",
     "text": [
      "2 3 5 7 11 "
     ]
    }
   ],
   "source": [
    "def primes5():\n",
    "    return (2, 3, 5, 7, 11)\n",
    "\n",
    "if __name__==\"__main__\":\n",
    "    for p in primes5():\n",
    "        print(\"%d\" % p, end=' ')"
   ]
  },
  {
   "cell_type": "markdown",
   "metadata": {},
   "source": [
    "A purist might argue that the following is even cleaner:"
   ]
  },
  {
   "cell_type": "code",
   "execution_count": 26,
   "metadata": {},
   "outputs": [
    {
     "name": "stdout",
     "output_type": "stream",
     "text": [
      "2 3 5 7 11 "
     ]
    }
   ],
   "source": [
    "def primes5():\n",
    "    return (2, 3, 5, 7, 11)\n",
    "\n",
    "def main():\n",
    "    for p in primes5():\n",
    "        print(\"%d\" % p, end=' ')\n",
    "\n",
    "if __name__==\"__main__\":\n",
    "    main()"
   ]
  },
  {
   "cell_type": "markdown",
   "metadata": {},
   "source": [
    "but either of the last two options is good.\n",
    "\n",
    "The example in [Many ways to compute a series](#Many-ways-to-compute-a-series) demonstrates this technique. Including functions with names starting with `test_` is compatible with the very useful py.test regression testing framework (see <http://pytest.org/>).\n",
    "\n",
    "#### Further Reading\n",
    "\n",
    "-   [Python Tutorial Section 6](http://docs.python.org/tutorial/modules.html#modules)"
   ]
  }
 ],
 "metadata": {
  "kernelspec": {
   "display_name": "Python 3",
   "language": "python",
   "name": "python3"
  },
  "language_info": {
   "codemirror_mode": {
    "name": "ipython",
    "version": 3
   },
   "file_extension": ".py",
   "mimetype": "text/x-python",
   "name": "python",
   "nbconvert_exporter": "python",
   "pygments_lexer": "ipython3",
   "version": "3.6.1"
  }
 },
 "nbformat": 4,
 "nbformat_minor": 1
}
