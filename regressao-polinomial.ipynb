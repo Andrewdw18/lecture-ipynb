{
 "cells": [
  {
   "cell_type": "code",
   "execution_count": 255,
   "metadata": {
    "collapsed": false
   },
   "outputs": [
    {
     "name": "stdout",
     "output_type": "stream",
     "text": [
      "Curva de ajuste com coeficientes: [[  5.01922367e+05  -7.44828352e+02   3.67136165e-01  -6.00800873e-05]]\n"
     ]
    },
    {
     "data": {
      "text/plain": [
       "<matplotlib.legend.Legend at 0x11816d9d0>"
      ]
     },
     "execution_count": 255,
     "metadata": {},
     "output_type": "execute_result"
    },
    {
     "data": {
      "image/png": "[encoded data removed]",
      "text/plain": [
       "<matplotlib.figure.Figure at 0x117f73510>"
      ]
     },
     "metadata": {},
     "output_type": "display_data"
    }
   ],
   "source": [
    "'''\n",
    "Regressão Polinomial (ajuste de curvas por polinômios): caso discreto\n",
    "'''\n",
    "\n",
    "\n",
    "'''\n",
    "Interface com matplotlib \n",
    "[inline]: plotagens diretas\n",
    "[notebook]: plotagens com janela interativa \n",
    "'''\n",
    "%matplotlib inline \n",
    "# %matplotlib notebook \n",
    "\n",
    "\n",
    "# modulos\n",
    "import numpy as np\n",
    "import matplotlib.mlab as mlab # comandos compatíveis com Matlab\n",
    "import matplotlib.pyplot as plt\n",
    "import matplotlib.cm as cm # submodulo colormap \n",
    "\n",
    "''' inicio de codigo '''\n",
    "\n",
    "# pontos de ajuste\n",
    "X = np.array([1900.0, 1920.0, 1940.0, 1950.0, 1960.0, 1970.0, 1980.0, 1991.0, 2000.0, 2010.0, 2015.0])\n",
    "\n",
    "# valores amostrados \n",
    "Y = np.array([17.4, 30.6, 41.2, 51.9, 70.2, 93.1, 119.0, 146.2, 175.8, 198.6, 207.8])\n",
    "\n",
    "# ordem do polinomio de regressao\n",
    "p = 3\n",
    "\n",
    "# necessarios p+1 pontos \n",
    "K = p + 1\n",
    "\n",
    "# teste\n",
    "m = X.size\n",
    "n = Y.size\n",
    "\n",
    "if not m == n:\n",
    "    raise AssertionError(\"Pontos e valores de amostras com quantidades distintas: m != n\")\n",
    "\n",
    "# lista contendo funcoes da base polinomial\n",
    "f = []\n",
    "for i in range(0,K):\n",
    "    f.append(lambda x, z=i: x**z)\n",
    "\n",
    "# matriz dos produtos internos \n",
    "A = np.zeros(shape=(K,K))\n",
    "\n",
    "# vetor dos produtos internos \n",
    "b = np.zeros(shape=(K,1))\n",
    "\n",
    "# preenchendo\n",
    "for i in range(0,K):    \n",
    "\n",
    "    b[i] = np.dot(Y,f[i](X)) # <f,gi>\n",
    "    \n",
    "    for j in range(0,K):\n",
    "        A[i,j] = np.dot(f[i](X),f[j](X)) # <gi,gj>\n",
    "\n",
    "# coeficientes de ajuste\n",
    "coefs = np.linalg.solve(A,b)\n",
    "\n",
    "# curva de ajuste\n",
    "cfit = 0.0\n",
    "for i in range(0,K):\n",
    "    cfit += coefs[i]*(X**i)\n",
    "\n",
    "print 'Curva de ajuste com coeficientes:', coefs.T\n",
    "\n",
    "# plotagem\n",
    "fig, ax = plt.subplots()\n",
    "plt.grid('on',ls=':',linewidth=0.25,color='red')\n",
    "plt.scatter(X,Y)\n",
    "plt.hold(True)\n",
    "plt.plot(X,cfit)\n",
    "plt.xlabel('x')\n",
    "plt.ylabel('y')\n",
    "s = 'curva ajustada: grau' + ' ' + str(p)\n",
    "plt.legend([s,'amostras'],loc=0)\n",
    "\n",
    "    "
   ]
  },
  {
   "cell_type": "code",
   "execution_count": 216,
   "metadata": {
    "collapsed": false
   },
   "outputs": [],
   "source": []
  }
 ],
 "metadata": {
  "kernelspec": {
   "display_name": "Python 2",
   "language": "python",
   "name": "python2"
  },
  "language_info": {
   "codemirror_mode": {
    "name": "ipython",
    "version": 2
   },
   "file_extension": ".py",
   "mimetype": "text/x-python",
   "name": "python",
   "nbconvert_exporter": "python",
   "pygments_lexer": "ipython2",
   "version": "2.7.12"
  }
 },
 "nbformat": 4,
 "nbformat_minor": 0
}
